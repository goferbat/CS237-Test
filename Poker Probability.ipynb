{
 "cells": [
  {
   "cell_type": "code",
   "execution_count": null,
   "metadata": {
    "collapsed": true
   },
   "outputs": [],
   "source": [
    "#Declan Halbert\n",
    "#U79196431"
   ]
  },
  {
   "cell_type": "markdown",
   "metadata": {},
   "source": [
    "# CS 237 Lab Three: Poker Probability\n",
    "In this lab we will explore Poker Probability, which is calculating the probability of various hands in the game of poker. This is, again, exploring how to confirm our theoretical understanding with experiments. If our experiments, as we increase the number of trials, converge to our theoretical calculation, then we have almost certainly analyzed it correctly. \n",
    "\n",
    "There are many versions of poker (see <a href=\"http://www.wikihow.com/Play-Poker\">here</a>) but the game we will study is called \"five-card draw.\" It is <a href=\"https://www.pokernews.com/strategy/5-card-draw-rules-how-to-play-five-card-draw-poker-23741.htm\">described</a> as follows:\n",
    "\n",
    "<blockquote>Once everyone has paid the ante, each player receives five cards face down. A round of betting then occurs. If more than one player remains after that first round of betting, there follows a first round of drawing. Each active player specifies how many cards he or she wishes to discard and replace with new cards from the deck. If you are happy with your holding and do not want to draw any cards, you “stand pat.”\n",
    "\n",
    "\n",
    "Once the drawing round is completed, there is another round of betting. After that if there is more than one player remaining, a showdown occurs in which the player with the best five-card poker hand wins.\n",
    "</blockquote>\n",
    "\n",
    "The only part we will care about is the final calculation of which hand wins: basically, the least probable hand wins.  When you learn poker, then, one of the first things you have to learn is the ordering of the hands from most to least likely. <i>Poker probability</i> refers to calculating the exact probabilities of hands. The <a href=\"https://en.wikipedia.org/wiki/Poker_probability\">Wikipedia article</a> contains the exact results and the formulae used to calculate them. \n",
    "\n",
    "In this lab we will develop a framework for dealing 5-card hands and empirically estimating the probabilites of various hands. In fact, we will be able to do nearly all the hands commonly encountered. Our only constraint is that for the two rarest hands, the probability is so small it would take too long to get a reasonable estimate, and so we shall ignore them. \n",
    "\n",
    "This should complete your understanding of the counting techniques covered in lecture. "
   ]
  },
  {
   "cell_type": "code",
   "execution_count": 1,
   "metadata": {
    "collapsed": true
   },
   "outputs": [],
   "source": [
    "# Here are some imports which will be used in code that we write for CS 237\n",
    "\n",
    "# Jupyter notebook specific \n",
    "\n",
    "from IPython.display import Image\n",
    "from IPython.core.display import HTML \n",
    "from IPython.display import display_html\n",
    "from IPython.display import display\n",
    "from IPython.display import Math\n",
    "from IPython.display import Latex\n",
    "from IPython.display import HTML   \n",
    "\n",
    "# Imports potentially used for this lab\n",
    "\n",
    "import numpy as np                # arrays and functions which operate on array\n",
    "from numpy import linspace, arange\n",
    "import matplotlib.pyplot as plt   # normal plotting\n",
    "import seaborn as sns             # Fancy plotting \n",
    "import pandas as pd               # Data input and manipulation\n",
    "\n",
    "from numpy.random import random, randint, uniform, choice, shuffle\n",
    "from collections import Counter\n",
    "\n",
    "%matplotlib inline\n"
   ]
  },
  {
   "cell_type": "markdown",
   "metadata": {},
   "source": [
    "## Preface: Card Games and Probability\n",
    "First we will first explore how to encode a standard deck of 52 playing cards, how to perform various tests on cards, and how to deal hands. To remind you, here is the illustration from hw 01 showing all the cards:\n",
    "<a href=\"http://www.cs.bu.edu/fac/snyder/cs237/Homeworks/images/hw01.PlayingCards.png\"> cards</a>."
   ]
  },
  {
   "cell_type": "code",
   "execution_count": 279,
   "metadata": {},
   "outputs": [
    {
     "name": "stdout",
     "output_type": "stream",
     "text": [
      "['C', 'H', 'S', 'D', 'C', 'H', 'S', 'D', 'C', 'H', 'S', 'D', 'C', 'H', 'S', 'D', 'C', 'H', 'S', 'D', 'C', 'H', 'S', 'D', 'C', 'H', 'S', 'D', 'C', 'H', 'S', 'D', 'C', 'H', 'S', 'D', 'C', 'H', 'S', 'D', 'C', 'H', 'S', 'D', 'C', 'H', 'S', 'D', 'C', 'H', 'S', 'D']\n"
     ]
    }
   ],
   "source": [
    "# We will represent cards as a string, e.g., 'AC' will be Ace of Clubs\n",
    "\n",
    "# Denominations: 'J' = Jack, 'Q' = Queen, 'K' = King, 'A' = Ace, \n",
    "Denominations = ['2','3','4','5','6','7','8','9','10','J','Q','K','A']\n",
    "\n",
    "# Suits 'S' = Spades, 'H' = Hearts, 'D' = Diamonds, 'C' = Clubs  \n",
    "Suits = ['C', 'H', 'S', 'D']\n",
    "\n",
    "# Note that colors are determined by the suits (hearts and diamonds are red, others black,\n",
    "# so, AC is Black\n",
    "    \n",
    "# List comprehensions are a great way to avoid explicit for loops when creating lists\n",
    "\n",
    "Deck =  [(d+s) for d in Denominations for s in Suits]   # Note the double for loop\n",
    "\n",
    "def Suits():\n",
    "    deck2 = []\n",
    "    for i in Deck: \n",
    "        if len(i) > 2:\n",
    "            deck2.append(i[2])\n",
    "            continue\n",
    "        deck2.append(i[1])\n",
    "    return deck2\n",
    "\n",
    "FinalSuit = Suits()\n",
    "    \n",
    "print( FinalSuit )\n"
   ]
  },
  {
   "cell_type": "code",
   "execution_count": 280,
   "metadata": {
    "scrolled": true
   },
   "outputs": [
    {
     "name": "stdout",
     "output_type": "stream",
     "text": [
      "3D\n"
     ]
    }
   ],
   "source": [
    "# Now we can \"deal\" cards by choosing randomly from the deck\n",
    "\n",
    "def dealCard():\n",
    "    return choice(Deck)           # choice randomly chooses an element of a list\n",
    "\n",
    "print( dealCard() )"
   ]
  },
  {
   "cell_type": "code",
   "execution_count": 281,
   "metadata": {},
   "outputs": [
    {
     "name": "stdout",
     "output_type": "stream",
     "text": [
      "['D' 'D' 'S' 'S' 'S']\n"
     ]
    }
   ],
   "source": [
    "# When dealing a hand in cards, the selection of cards is without replacement, that is, cards are removed from\n",
    "# the deck one by one and not put back. This can be simulated in the choice function by setting the replace \n",
    "# parameter to False. \n",
    "\n",
    "def dealHand():\n",
    "    return choice(Deck, replace=False, size=5)\n",
    "\n",
    "def dealHandSuit():\n",
    "    return choice(FinalSuit, replace=False, size=5)  \n",
    "\n",
    "print( dealHandSuit() )"
   ]
  },
  {
   "cell_type": "code",
   "execution_count": 282,
   "metadata": {},
   "outputs": [],
   "source": [
    "# extract the denomination and the suit from a card\n",
    "\n",
    "def denom(c):\n",
    "    return c[0:-1]\n",
    "\n",
    "def suit(c):\n",
    "    return c[-1]\n",
    "\n",
    "# The RANK of a denomination will be its position in the list 2, 3, ...., K, A. This will be used in an essential\n",
    "# way in our code below. Although in the diagram linked above, Ace is below 2, the Ace is actually considered to be ordered\n",
    "# above the King, for example in determining a straight. \n",
    "\n",
    "#  rank(2) = 0, ...., rank(10) = 8, rank(Jack) = 9, rank(Queen) = 10, rank(King) = 11, rank(Ace) = 12\n",
    "\n",
    "def rank(c):\n",
    "    return Denominations.index(denom(c))\n",
    "\n",
    "# Now we want to identify various kinds of cards \n",
    "\n",
    "def isHeart(c):\n",
    "    return ( suit(c) == 'H')\n",
    "\n",
    "def isDiamond(c):\n",
    "    return ( suit(c) == 'D')\n",
    "\n",
    "def isClub(c):\n",
    "    return ( suit(c) == 'C')\n",
    "\n",
    "def isSpade(c):\n",
    "    return ( suit(c) == 'S')\n",
    "\n",
    "def isRed(c):\n",
    "    return ( isHeart(c) or isDiamond(c) )\n",
    "\n",
    "def isBlack(c):\n",
    "    return (not isRed(c))\n",
    "\n",
    "def isFaceCard(c):\n",
    "    return rank(c) >= 9\n",
    "    "
   ]
  },
  {
   "cell_type": "markdown",
   "metadata": {},
   "source": [
    "## Example Problem: What is probability that a 5-card hand has exactly 3 red cards?\n",
    "Remember that in finite probability, for any event A, $$P(A) = \\frac{| A |}{|S|}.$$  Therefore, what we need to do in problems involving the probability of various kinds of hands in card games is to count the number of possible such hands, and divide by the total number of all possible hands. We develop analytical tools in lecture to do this, but here we are going to estimate it with repeated trials of dealing hands and testing for a given kind of hand. \n",
    "\n",
    "For the following code, notice carefully how list comprehensions are used. Run the code as given to see how it works and then try setting the num_trials to 10,000.\n",
    "\n",
    "In general for all but the last problem, we will use 10,000 trials to get a reasonable estimate of the probability. Since 1/10000 = 0.0001 this means our resolution for experimental probabilities is 4 decimal places.  "
   ]
  },
  {
   "cell_type": "code",
   "execution_count": 283,
   "metadata": {
    "scrolled": true
   },
   "outputs": [
    {
     "name": "stdout",
     "output_type": "stream",
     "text": [
      "\n",
      "Probability of exactly 3 red cards in a 5-card hand is 0.3265\n"
     ]
    }
   ],
   "source": [
    "# Return True iff the number of red cards in the hand h is 3\n",
    "def threeRed(h):\n",
    "    redCards = [c for c in h if isRed(c)]\n",
    "    return (len(redCards) == 3)\n",
    "\n",
    "# Run the experiment for 10,000 trials\n",
    "# Print out probability that a 5-card hand has exactly 3 red cards\n",
    "\n",
    "num_trials = 10000\n",
    "trials = [dealHand() for k in range(num_trials)]       # create list of 10000 hands randomly dealt\n",
    "\n",
    "if(num_trials <= 10):       # Just for this example, you don't need to do this unless you are debugging\n",
    "    print(trials)\n",
    "    \n",
    "hands =  [threeRed(h) for h in trials]                 # convert this to list of true and false values\n",
    "\n",
    "if(num_trials <= 10):\n",
    "    print(hands)\n",
    "    \n",
    "prob = hands.count(True) / num_trials                  # count the number of True values and divide by num_trials\n",
    "\n",
    "# probability for 10,000 trials should be close to analytical value of 0.3251\n",
    "\n",
    "print('\\nProbability of exactly 3 red cards in a 5-card hand is ' + str(prob))\n",
    "\n"
   ]
  },
  {
   "cell_type": "code",
   "execution_count": 284,
   "metadata": {},
   "outputs": [
    {
     "name": "stdout",
     "output_type": "stream",
     "text": [
      "\n",
      "Probability of exactly 3 red cards in a 5-card hand is 0.3265\n"
     ]
    }
   ],
   "source": [
    "# here is another way to do it, but it is a bit cryptic!\n",
    "\n",
    "# trials was calculated above\n",
    "\n",
    "prob2 = sum( [1 for h in trials if threeRed(h)] ) / num_trials\n",
    "\n",
    "print('\\nProbability of exactly 3 red cards in a 5-card hand is ' + str(prob2))"
   ]
  },
  {
   "cell_type": "code",
   "execution_count": 285,
   "metadata": {},
   "outputs": [
    {
     "name": "stdout",
     "output_type": "stream",
     "text": [
      "\n",
      "Probability of exactly 3 red cards in a 5-card hand is 0.3148\n",
      "\n",
      "Probability of exactly 3 red cards in a 5-card hand is 0.3204\n"
     ]
    }
   ],
   "source": [
    "# If you like cryptic, then you can put it all, including the calculation of trials in one line! \n",
    "# Here are two examples. Note: these run the experiment again,  so they won't match the previous 2 answers precisely.\n",
    "\n",
    "prob3 = sum( [1 for h in [dealHand() for k in range(num_trials)] if threeRed(h)] ) / num_trials\n",
    "\n",
    "print('\\nProbability of exactly 3 red cards in a 5-card hand is ' + str(prob3))\n",
    "\n",
    "prob4 = sum( [1 for k in range(num_trials) if threeRed(dealHand())] ) / num_trials\n",
    "\n",
    "print('\\nProbability of exactly 3 red cards in a 5-card hand is ' + str(prob4))\n"
   ]
  },
  {
   "cell_type": "markdown",
   "metadata": {
    "collapsed": true
   },
   "source": [
    "## Problem 1: What is probability that a 5-card hand has at least 3 Diamonds?"
   ]
  },
  {
   "cell_type": "code",
   "execution_count": 286,
   "metadata": {},
   "outputs": [
    {
     "name": "stdout",
     "output_type": "stream",
     "text": [
      "\n",
      "Probability that a 5-card hand has at least 3 Diamonds: 0.0941\n"
     ]
    }
   ],
   "source": [
    "# Run the experiment for 10,000 trials\n",
    "# Print out probability that a 5-card hand has 3, 4, or 5 diamonds.\n",
    "\n",
    "def threeDiamonds(h):\n",
    "    Diamonds = [c for c in h if isDiamond(c)]\n",
    "    return (len(Diamonds) >= 3)\n",
    "\n",
    "num_trials = 10000\n",
    "trials = [dealHand() for k in range(num_trials)] \n",
    "\n",
    "if(num_trials <= 10):       # Just for this example, you don't need to do this unless you are debugging\n",
    "    print(trials)\n",
    "\n",
    "hands =  [threeDiamonds(h) for h in trials]\n",
    "\n",
    "if(num_trials <= 10):\n",
    "    print(hands)\n",
    "    \n",
    "prob = hands.count(True) / num_trials \n",
    "\n",
    "\n",
    "print('\\nProbability that a 5-card hand has at least 3 Diamonds: ' + str(prob))\n",
    "\n"
   ]
  },
  {
   "cell_type": "markdown",
   "metadata": {},
   "source": [
    "## Problem 2: What is probability of a flush in Poker?\n",
    "In Poker, a <i>flush</i> is 5 cards of the same suit, but excludes straight flushes and royal flushes; these, however, are so rare, that they will not affect our approximation, so we just have to determine if all suits are the same. "
   ]
  },
  {
   "cell_type": "code",
   "execution_count": 287,
   "metadata": {},
   "outputs": [
    {
     "name": "stdout",
     "output_type": "stream",
     "text": [
      "\n",
      "Probability that there is a Flush 0.0022\n"
     ]
    }
   ],
   "source": [
    "# Run the experiment for 10,000 trials\n",
    "# Print out probability that a 5-card hand has all the same suit\n",
    "\n",
    "# To verify correctness, see link above for poker frequencies of various hands\n",
    "\n",
    "def Flush(h):\n",
    "    count = 0\n",
    "    hello = 0\n",
    "    for i in h:\n",
    "        if ord(h[0]) == ord(h[hello]):\n",
    "            count += 1\n",
    "        hello += 1\n",
    "    if count == 5:\n",
    "        return True\n",
    "    return False    \n",
    "\n",
    "num_trials = 10000\n",
    "trials = [dealHandSuit() for k in range(num_trials)] \n",
    "\n",
    "if(num_trials <= 10):       # Just for this example, you don't need to do this unless you are debugging\n",
    "    print(trials)\n",
    "\n",
    "hands =  [Flush(h) for h in trials]\n",
    "\n",
    "if(num_trials <= 10):\n",
    "    print(hands)\n",
    "    \n",
    "prob = hands.count(True) / num_trials \n",
    "\n",
    "\n",
    "print('\\nProbability that there is a Flush ' + str(prob))\n",
    "\n",
    "\n"
   ]
  },
  {
   "cell_type": "markdown",
   "metadata": {},
   "source": [
    "## Problem 3: What is probability of a straight in Poker?\n",
    "In poker, a <i>straight</i> a hand in which the ranks form a contiguous sequence, e.g., 2,3,4,5,6. The suits do not matter. As with flushes, we exclude straight flushes and royal flushes.  "
   ]
  },
  {
   "cell_type": "code",
   "execution_count": 288,
   "metadata": {},
   "outputs": [
    {
     "name": "stdout",
     "output_type": "stream",
     "text": [
      "\n",
      "Probability of a straight: 0.0028\n"
     ]
    }
   ],
   "source": [
    "# Print out probability that a 5-card hand is a straight\n",
    "# Hint: Create a histogram of the rank frequencies using Counter: all frequencies should be 1 (each rank occurs\n",
    "#   at most once), and then the min and max rank should be what distance apart??\n",
    "\n",
    "def Straight(h):\n",
    "    o = []\n",
    "    for i in range(len(h)):\n",
    "        o.append(rank(h[i]))\n",
    "    if len(o) != len(set(o)):\n",
    "        return False\n",
    "    rank_range = max(o) - min(o) + 1\n",
    "    if rank_range == 5 and len(o) == 5:\n",
    "        return True\n",
    "    return False\n",
    "\n",
    "num_trials = 10000\n",
    "trials = [dealHand() for k in range(num_trials)] \n",
    "\n",
    "if(num_trials <= 10):       # Just for this example, you don't need to do this unless you are debugging\n",
    "    print(trials)\n",
    "\n",
    "hands =  [Straight(h) for h in trials]\n",
    "\n",
    "if(num_trials <= 10):\n",
    "    print(hands)\n",
    "    \n",
    "prob = hands.count(True) / num_trials \n",
    "\n",
    "\n",
    "print('\\nProbability of a straight: ' + str(prob))\n",
    "\n",
    "# To verify correctness, see link above for poker frequencies of various hands"
   ]
  },
  {
   "cell_type": "markdown",
   "metadata": {},
   "source": [
    "## Problem 4: Rank Signature of a poker hand\n",
    "\n",
    "Let us define the <i>rank signature</i> of a hand as an ordered histogram of the ranks occurring in the hand; that is, we create a histogram of the ranks occurring in the hand, extract the values (ignoring the keys, i.e., the actual ranks), and order this sequence. Here are some examples:\n",
    " - No pair/ high card, five cards all of different ranks (e.g., Ace, 4, 2, King, 8): [1,1,1,1,1]\n",
    " - One pair, 2 cards of the same rank, and 3 more all of different ranks (e.g., 2,2,6,3,Ace): [1,1,1,2]\n",
    " - Two pair, 2 pairs (of different ranks) and one card of a different rank (e.g., 2,2,Ace,3,Ace): [1,2,2]\n",
    " - Full house, 2 cards of the same rank, and 3 cards of the same rank (e.g., 8,Jack,8,8,Jack): [2,3]\n",
    " \n",
    "It is not important what suits are involved in these hands, and so they can be defined solely in terms of the ranks involved. The importance of this concept is that once we write a function to estimate the probability of a given signature, we can then immediately calculate the probability of many different poker hands.\n",
    "\n",
    "For this problem you must write a function which calculate the probability that a 5-card hand has a given signature and verify it by calculating the probability of no pair / high card."
   ]
  },
  {
   "cell_type": "code",
   "execution_count": 289,
   "metadata": {},
   "outputs": [
    {
     "name": "stdout",
     "output_type": "stream",
     "text": [
      "Probability of no pair / high card in poker is 0.5129\n"
     ]
    }
   ],
   "source": [
    "# Run the experiment for 10,000 trials\n",
    "# Print out probability that a 5-card hand has a given signature\n",
    "# Test using high card hand\n",
    "\n",
    "def has_rank_signature(h,rank_signature):\n",
    "    o = []\n",
    "    \n",
    "    for i in range(len(h)):\n",
    "        o.append(rank(h[i]))\n",
    "    fuckthisshit = Counter(o)\n",
    "    \n",
    "    final = []\n",
    "    \n",
    "    for j in range(5):\n",
    "        if fuckthisshit[o[j]] != 0:\n",
    "            final.append(fuckthisshit[o[j]])\n",
    "        del fuckthisshit[o[j]]\n",
    "    \n",
    "    final.sort()\n",
    "    \n",
    "    if final == rank_signature:\n",
    "        return True\n",
    "    return False\n",
    "    \n",
    "    \n",
    "    \n",
    "    \n",
    "    # Hint: create a dictionary of the hand and extract the values, and sort them, then compare with rank_signature\n",
    "    return False\n",
    "\n",
    "def probability_of_rank_signature(rank_signature,num_trials):\n",
    "    return sum( [1 for h in [dealHand() for k in range(num_trials)] if has_rank_signature(h,rank_signature)] ) / num_trials\n",
    "\n",
    "# probability should be close to analytical value of 0.501177\n",
    "\n",
    "print('Probability of no pair / high card in poker is ' + str(probability_of_rank_signature([1,1,1,1,1],10000)))"
   ]
  },
  {
   "cell_type": "code",
   "execution_count": null,
   "metadata": {
    "collapsed": true
   },
   "outputs": [],
   "source": []
  },
  {
   "cell_type": "markdown",
   "metadata": {},
   "source": [
    "## Problem Five: Using rank signature to calculate five different poker hands\n",
    "\n",
    "For all of these except the last, you should do 10,000 trials. \n",
    "\n",
    "### Problem 5 (A): What is probability of one pair in Poker?"
   ]
  },
  {
   "cell_type": "code",
   "execution_count": 275,
   "metadata": {},
   "outputs": [
    {
     "name": "stdout",
     "output_type": "stream",
     "text": [
      "Probability of one pair in Poker 0.423\n"
     ]
    }
   ],
   "source": [
    "print('Probability of one pair in Poker ' + str(probability_of_rank_signature([1,1,1,2],10000)))"
   ]
  },
  {
   "cell_type": "markdown",
   "metadata": {},
   "source": [
    "### Problem 5 (B): What is probability of two pairs in Poker?"
   ]
  },
  {
   "cell_type": "code",
   "execution_count": 274,
   "metadata": {},
   "outputs": [
    {
     "name": "stdout",
     "output_type": "stream",
     "text": [
      "Probability of two pairs in Poker 0.049\n"
     ]
    }
   ],
   "source": [
    "print('Probability of two pairs in Poker ' + str(probability_of_rank_signature([1,2,2],10000)))"
   ]
  },
  {
   "cell_type": "markdown",
   "metadata": {},
   "source": [
    "### Problem 5 (C): What is probability of three of a kind in Poker?"
   ]
  },
  {
   "cell_type": "code",
   "execution_count": 270,
   "metadata": {},
   "outputs": [
    {
     "name": "stdout",
     "output_type": "stream",
     "text": [
      "Probability of three of a kind in Poker 0.0186\n"
     ]
    }
   ],
   "source": [
    "print('Probability of three of a kind in Poker ' + str(probability_of_rank_signature([1,1,3],10000)))"
   ]
  },
  {
   "cell_type": "markdown",
   "metadata": {},
   "source": [
    "### Problem 5 (D): What is probability of a full house in Poker?\n"
   ]
  },
  {
   "cell_type": "code",
   "execution_count": 278,
   "metadata": {},
   "outputs": [
    {
     "name": "stdout",
     "output_type": "stream",
     "text": [
      "Probability of a full house in Poker 0.0013\n"
     ]
    }
   ],
   "source": [
    "print('Probability of a full house in Poker ' + str(probability_of_rank_signature([2,3],10000)))"
   ]
  },
  {
   "cell_type": "markdown",
   "metadata": {},
   "source": [
    "### Problem 5 (E): What is probability of four of a kind in Poker?\n",
    "The probability here is so small that you should run the experiment 1000,000 times, which will give you five digits of precision. "
   ]
  },
  {
   "cell_type": "code",
   "execution_count": 277,
   "metadata": {},
   "outputs": [
    {
     "name": "stdout",
     "output_type": "stream",
     "text": [
      "Probability of four of a kind 0.000225\n"
     ]
    }
   ],
   "source": [
    "print('Probability of four of a kind ' + str(probability_of_rank_signature([1,4],1000000)))"
   ]
  },
  {
   "cell_type": "markdown",
   "metadata": {
    "collapsed": true
   },
   "source": [
    "### Challenge Problem (based on the example problem): \n",
    "Let p = the number of red cards in a hand. Without using the sampling technique presented in this lab, calculate \n",
    "the exact probability of p. Hint: think in terms of permutations. "
   ]
  },
  {
   "cell_type": "code",
   "execution_count": null,
   "metadata": {
    "collapsed": true
   },
   "outputs": [],
   "source": []
  }
 ],
 "metadata": {
  "kernelspec": {
   "display_name": "Python 3",
   "language": "python",
   "name": "python3"
  },
  "language_info": {
   "codemirror_mode": {
    "name": "ipython",
    "version": 3
   },
   "file_extension": ".py",
   "mimetype": "text/x-python",
   "name": "python",
   "nbconvert_exporter": "python",
   "pygments_lexer": "ipython3",
   "version": "3.6.1"
  }
 },
 "nbformat": 4,
 "nbformat_minor": 2
}
