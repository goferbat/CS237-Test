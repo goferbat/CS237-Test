{
 "cells": [
  {
   "cell_type": "code",
   "execution_count": null,
   "metadata": {
    "collapsed": true
   },
   "outputs": [],
   "source": [
    "# Declan Halbert CS237 Lab 2\n",
    "# BU ID: U79196431\n",
    "# Email: dhalbert@bu.edu"
   ]
  },
  {
   "cell_type": "markdown",
   "metadata": {},
   "source": [
    "# CS237 Lab 2: Simulation of Random Experiments Continued\n",
    "In this second lab we will continue with our theme of simulating random experiments to verify our theoretical analysis from lecture. We will focus on the Monty Hall problem that was covered in lecture this week. We will study a generalized version of the game in which there are N doors and the host opens K doors (in the original problem, N = 3 and K = 1, but the game works for more general situations). The goal is to determine empirically which is the better strategy: switch or stay?\n"
   ]
  },
  {
   "cell_type": "markdown",
   "metadata": {},
   "source": [
    "# Description of the Generalized Monty Hall Game\n",
    " The game is played as follows:\n",
    "- There are $N$ doors for $N\\ge3$.\n",
    "- Behind exactly one of the doors is a prize (e.g., a car).\n",
    "- The goal of the game is to select the door with the prize behind it. \n",
    "- Once you have made a selection, the host, who knows where the prize is, will open  $K$ doors, for $1\\le K\\le N-2$, that you did not select, and that do not contain the prize.  \n",
    "- You are then given the option to  pick a new door. The goal of this first section is to determine whether or not you should swap doors by using numpy to simulate this game. \n",
    "\n",
    "We will break this game up into a sequence of problems."
   ]
  },
  {
   "cell_type": "code",
   "execution_count": 3,
   "metadata": {
    "collapsed": true
   },
   "outputs": [],
   "source": [
    "# CS 237: Lab 2\n",
    "#@Author: Kai Bernardini\n",
    "# Jupyter notebook specific \n",
    "from IPython.display import Image\n",
    "from IPython.core.display import HTML \n",
    "from IPython.display import display_html\n",
    "from IPython.display import display\n",
    "from IPython.display import Math\n",
    "from IPython.display import Latex\n",
    "from IPython.display import HTML\n",
    "\n",
    "# General useful imports\n",
    "import numpy as np\n",
    "from numpy import arange,linspace\n",
    "import matplotlib.pyplot as plt  \n",
    "from numpy.random import seed, randint, uniform, choice, shuffle\n",
    "from collections import Counter\n",
    "import pandas as pd\n",
    "%matplotlib inline"
   ]
  },
  {
   "cell_type": "markdown",
   "metadata": {},
   "source": [
    "# Problem 1\n",
    " - We will use the randint function from the numpy library to simulate selecting a door randomly and equiprobably (such a choice is usually phrased as \"uniformly at random\"). \n",
    " - You may assume that for $n\\in\\mathbb{N}, n\\geq 3$ doors, their numbers are $0,1,\\ldots, n-1$\n",
    " - Finish the stub for the code that initializes the game.\n",
    " - This function should return a pair <code>(doors,winning_door)</code> where\n",
    "- doors is a 1D array of length <code>number_of_doors</code>, where exactly one of the elements is a 1 (the winning door), and the rest are 0 (the losing doors)\n",
    "- winning_door is the index of the winning door\n",
    "    \n",
    "For example, if the array is [0,0,1], then the winning door is at index 2, while the losing doors are at 0,1, and the function would return ([0,0,1],2)\n",
    " \n"
   ]
  },
  {
   "cell_type": "code",
   "execution_count": 4,
   "metadata": {},
   "outputs": [
    {
     "name": "stdout",
     "output_type": "stream",
     "text": [
      "(array([ 0.,  0.,  1.]), 2)\n"
     ]
    }
   ],
   "source": [
    "def select_door(number_of_doors):\n",
    "    return (randint(number_of_doors))\n",
    "\n",
    "def initialize_game(number_doors):\n",
    "    doors = np.zeros(number_doors) # your code here\n",
    "    winning_door = select_door(number_doors)\n",
    "    doors[winning_door] = 1\n",
    "    return (doors,winning_door)\n",
    "\n",
    "# test\n",
    "print( initialize_game(3) )"
   ]
  },
  {
   "cell_type": "markdown",
   "metadata": {},
   "source": [
    "# Problem 2\n",
    "After the game is initialized (problem 1), the player will choose a door (this will be done in problem 4). Next, the host will open one or more doors, which we will simulate in this problem.  You must write a function <code>open_doors</code> which takes\n",
    "\n",
    " - doors: the list generated from <code>initialize_game</code>\n",
    " - ignore_doors: a list of doors (indices into the doors array) to exclude (i.e., the door selected by the player, and the winning door) and \n",
    " - num_doors_to_open\n",
    "\n",
    "You must randomly generate a list of doors (opened_doors) that the host opens; these must be chosen from doors that are NOT in the list ignore_doors. The function returns a pair <code>(opened_doors, remaining_doors)</code>, where\n",
    " - opened_doors is an array containing the indices of all doors opened. \n",
    " - remaining_doors is an array of possible doors that were not in fact opened. \n",
    " \n",
    "Basically, the game enters this function with doors separated into doors that can not be opened by the host, and doors that the host can possibly open; the game leaves this function with a partition into three subsets: doors which must be ignored, doors randomly opened by the host, and all others. This last group is the set of doors that the player could switch to.\n",
    "\n",
    "In the case that there are 3 doors, the function should be deterministic for a fixed array. "
   ]
  },
  {
   "cell_type": "code",
   "execution_count": 5,
   "metadata": {},
   "outputs": [
    {
     "name": "stdout",
     "output_type": "stream",
     "text": [
      "['dude']\n"
     ]
    }
   ],
   "source": [
    "# HINT: use the choice function from the reading!\n",
    "# Example: try changing size, which is another way of specifying the length of a 1D array\n",
    "\n",
    "print(choice([1,'suh','dude'], replace=False, size=1))"
   ]
  },
  {
   "cell_type": "code",
   "execution_count": 6,
   "metadata": {},
   "outputs": [],
   "source": [
    "def open_doors(doors, ignore_doors, num_doors_to_open):\n",
    "    next_doors = [i for i in range(len(doors)) if i not in ignore_doors]\n",
    "    return choice(next_doors, replace=False, size=num_doors_to_open)"
   ]
  },
  {
   "cell_type": "markdown",
   "metadata": {},
   "source": [
    "# Problem 3\n",
    "Now that the game has been initialized, the player has chosen a door, and the host has opened some number of doors, we must figure out what the player will do: will he trade his choice (open a remaining door other than his original choice, chosen randomly? Will he keep his original choice? Or will he flip a coin to decide which of these two strategies he will use?  This function will perform this choice, depending on the strategy input.\n",
    "\n",
    "The function new_door_choice should take as input:\n",
    "    - swap_behavior: the strategy the player uses encoded as an integer:\n",
    "        - Always trade (0): the player will trade no matter what, and randomly select a remaining door. \n",
    "        - Never trade (1): the player will always keep his initial choice.\n",
    "        - Randomly trade (2): the player flips a fair coin:\n",
    "            - if heads, he trades his door;\n",
    "            - if tails, he keeps his current choice.\n",
    "    - current_door: the door currently selected by the player, and \n",
    "    - rem_doors: a list of the doors the player can choose from if he decides to trade. \n",
    " \n",
    "The function should return the index at which the newly selected door is located. If the strategy is 1, then this will be the current_door.\n"
   ]
  },
  {
   "cell_type": "code",
   "execution_count": 37,
   "metadata": {},
   "outputs": [
    {
     "data": {
      "text/plain": [
       "10"
      ]
     },
     "execution_count": 37,
     "metadata": {},
     "output_type": "execute_result"
    }
   ],
   "source": [
    "def new_door_choice(swap_behavior, current_door, rem_doors):\n",
    "    if swap_behavior == 0:\n",
    "        x = randint(len(rem_doors))\n",
    "        return rem_doors[x]\n",
    "    elif swap_behavior == 2:\n",
    "        x = randint(0,2)\n",
    "        if x == 1:\n",
    "            return current_door\n",
    "        if x == 0:\n",
    "            return rem_doors[randint(len(rem_doors))]\n",
    "    else:\n",
    "        return current_door\n",
    "        \n",
    "new_door_choice(0, 3, [0, 2, 10, 15, 16, 17])"
   ]
  },
  {
   "cell_type": "code",
   "execution_count": 8,
   "metadata": {},
   "outputs": [
    {
     "name": "stdout",
     "output_type": "stream",
     "text": [
      "0\n"
     ]
    }
   ],
   "source": [
    "#test \n",
    "x = randint(0,2)\n",
    "print(x)"
   ]
  },
  {
   "cell_type": "markdown",
   "metadata": {},
   "source": [
    "# Problem 4: Putting it all together\n",
    "- Implement the function below to simulate playing 1 round of the Monty Hall game. \n",
    "- It should first initialize the doors (problem 1)\n",
    "- Then select the players choice (randomly choose a door).\n",
    "- The host will then open one or more doors (problem 2)\n",
    "- Finally, the player either keeps his door or trades (problem 3)\n",
    "- The function should return a boolean value:\n",
    "    - True if the player won the prize\n",
    "    - False if he doesn't"
   ]
  },
  {
   "cell_type": "code",
   "execution_count": 42,
   "metadata": {},
   "outputs": [
    {
     "data": {
      "text/plain": [
       "Counter({False: 496, True: 504})"
      ]
     },
     "execution_count": 42,
     "metadata": {},
     "output_type": "execute_result"
    }
   ],
   "source": [
    "def game(swap_behavior = 0,   num_doors=3, num_doors_to_open=1):\n",
    "    \n",
    "    y = initialize_game(num_doors) #Step 1\n",
    "    doors = y[0]\n",
    "    x = select_door(len(doors))\n",
    "    ignore_doors = [y[1],x]\n",
    "    host_opens = open_doors(doors, ignore_doors , num_doors_to_open)\n",
    "    next_doors = [i for i in range(len(doors)) if i not in host_opens and i != x]\n",
    "    \n",
    "    last_step = new_door_choice(swap_behavior, x, next_doors)\n",
    "    return doors[last_step]==1\n",
    "\n",
    "Counter([game(swap_behavior=0) for i in range(1000)])"
   ]
  },
  {
   "cell_type": "markdown",
   "metadata": {},
   "source": [
    "# Problem 5 (A)\n",
    "- Simulate playing the game 10,000 times for each strategy with 3 doors, and 1 opened door. \n",
    "- Display a histogram to determine which strategy has the highest chance of winning (code provided for you below).  \n",
    "- To do this, build a function to determine the probability of winning for each of the three strategies.\n",
    "Note if you do not use numpy, this next step will take a long time."
   ]
  },
  {
   "cell_type": "code",
   "execution_count": 86,
   "metadata": {},
   "outputs": [
    {
     "data": {
      "image/png": "[encoded data removed]",
      "text/plain": [
       "<matplotlib.figure.Figure at 0x10fed19e8>"
      ]
     },
     "metadata": {},
     "output_type": "display_data"
    }
   ],
   "source": [
    "def simulate_with_strategy( swap_behavior = 0,   num_doors=3, num_doors_to_open=1 ,N=10000):    \n",
    "    x = Counter([game(swap_behavior,num_doors,num_doors_to_open) for i in range(1000)])\n",
    "    y = x[1]/N\n",
    "    return y\n",
    "\n",
    "# Don't touch the rest of this cell unless you know what you are doing\n",
    "strategy_map = {0: \"Always Trade\", 1: \"Never Trade\", 2: \"Randomly Trade\"}\n",
    "\n",
    "def evaluate_strategy(num_doors=3, num_doors_to_open=1 ,N=1000):\n",
    "    success = { }\n",
    "    for i in range(3):\n",
    "        success[ strategy_map[i]] = simulate_with_strategy(swap_behavior=i,\n",
    "                                           num_doors=num_doors, num_doors_to_open=num_doors_to_open, N=N)\n",
    "           \n",
    "    df = pd.DataFrame.from_dict( success, orient='index')\n",
    "    # results \n",
    "    df.plot.bar()\n",
    "    plt.title(\"Probability of Success with \" + str(num_doors)+ \" doors and \" + str(num_doors_to_open) + \" doors opened\" )\n",
    "    plt.xlabel(\"Strategy\")\n",
    "    plt.ylabel(\"Success\")\n",
    "    plt.show()\n",
    "\n",
    "evaluate_strategy()"
   ]
  },
  {
   "cell_type": "markdown",
   "metadata": {
    "collapsed": true
   },
   "source": [
    "# Problem 5 (B)\n",
    "Use your solution to the previous problem to determine what happens as the number of doors gets large (use 1000) and the number of doors opened is small (use 1). Run this 10000 times.\n",
    "\n",
    "\n",
    "Warning: This will take a minute or so to run!"
   ]
  },
  {
   "cell_type": "code",
   "execution_count": 88,
   "metadata": {},
   "outputs": [
    {
     "data": {
      "image/png": "[encoded data removed]",
      "text/plain": [
       "<matplotlib.figure.Figure at 0x10f838278>"
      ]
     },
     "metadata": {},
     "output_type": "display_data"
    }
   ],
   "source": [
    "def simulate_with_strategy( swap_behavior = 0,   num_doors=3, num_doors_to_open=1 ,N=10000):    \n",
    "    x = Counter([game(swap_behavior,num_doors,num_doors_to_open) for i in range(1000)])\n",
    "    y = x[1]/N\n",
    "    return y\n",
    "\n",
    "# Don't touch the rest of this cell unless you know what you are doing\n",
    "strategy_map = {0: \"Always Trade\", 1: \"Never Trade\", 2: \"Randomly Trade\"}\n",
    "\n",
    "def evaluate_strategy(num_doors=1000, num_doors_to_open=1 ,N=1000):\n",
    "    success = { }\n",
    "    for i in range(3):\n",
    "        success[ strategy_map[i]] = simulate_with_strategy(swap_behavior=i,\n",
    "                                           num_doors=num_doors, num_doors_to_open=num_doors_to_open, N=N)\n",
    "           \n",
    "    df = pd.DataFrame.from_dict( success, orient='index')\n",
    "    # results \n",
    "    df.plot.bar()\n",
    "    plt.title(\"Probability of Success with \" + str(num_doors)+ \" doors and \" + str(num_doors_to_open) + \" doors opened\" )\n",
    "    plt.xlabel(\"Strategy\")\n",
    "    plt.ylabel(\"Success\")\n",
    "    plt.show()\n",
    "\n",
    "evaluate_strategy()"
   ]
  },
  {
   "cell_type": "markdown",
   "metadata": {},
   "source": [
    "# Problem 5 (C)\n",
    "As in the previous problem, use the evaluate_strategy function to determine what happens as the number of doors gets large (use 1000) and the number of doors opened is also large (use 998). Run this 10000 times. \n",
    "\n",
    "Warning: This will take a couple of minutes to run!"
   ]
  },
  {
   "cell_type": "code",
   "execution_count": 89,
   "metadata": {},
   "outputs": [
    {
     "data": {
      "image/png": "[encoded data removed]",
      "text/plain": [
       "<matplotlib.figure.Figure at 0x10f944400>"
      ]
     },
     "metadata": {},
     "output_type": "display_data"
    }
   ],
   "source": [
    "def simulate_with_strategy( swap_behavior = 0,   num_doors=3, num_doors_to_open=1 ,N=10000):    \n",
    "    x = Counter([game(swap_behavior,num_doors,num_doors_to_open) for i in range(1000)])\n",
    "    y = x[1]/N\n",
    "    return y\n",
    "\n",
    "# Don't touch the rest of this cell unless you know what you are doing\n",
    "strategy_map = {0: \"Always Trade\", 1: \"Never Trade\", 2: \"Randomly Trade\"}\n",
    "\n",
    "def evaluate_strategy(num_doors=1000, num_doors_to_open=998 ,N=1000):\n",
    "    success = { }\n",
    "    for i in range(3):\n",
    "        success[ strategy_map[i]] = simulate_with_strategy(swap_behavior=i,\n",
    "                                           num_doors=num_doors, num_doors_to_open=num_doors_to_open, N=N)\n",
    "           \n",
    "    df = pd.DataFrame.from_dict( success, orient='index')\n",
    "    # results \n",
    "    df.plot.bar()\n",
    "    plt.title(\"Probability of Success with \" + str(num_doors)+ \" doors and \" + str(num_doors_to_open) + \" doors opened\" )\n",
    "    plt.xlabel(\"Strategy\")\n",
    "    plt.ylabel(\"Success\")\n",
    "    plt.show()\n",
    "\n",
    "evaluate_strategy()"
   ]
  },
  {
   "cell_type": "markdown",
   "metadata": {},
   "source": [
    "# Challenge Problem (no credit, but we'll be impressed!)\n",
    "Come up with a general solution to the Monty Hall problem. In particular, identify the optimal strategy. Then find the probability success subject to  \n",
    "- There are $n$ doors \n",
    "- $m$ doors are opened\n",
    "- the player randomly selects a door"
   ]
  }
 ],
 "metadata": {
  "kernelspec": {
   "display_name": "Python 3",
   "language": "python",
   "name": "python3"
  }
 },
 "nbformat": 4,
 "nbformat_minor": 2
}
